{
 "cells": [
  {
   "attachments": {},
   "cell_type": "markdown",
   "metadata": {},
   "source": [
    "# *Advancements in Machine Learning for Autism Spectrum Disorder Classification: A Comprehensive Analysis of Classification Techniques*\n",
    "\n",
    "##### Project designed and executed by Patricia Mae Quitoriano"
   ]
  },
  {
   "attachments": {},
   "cell_type": "markdown",
   "metadata": {},
   "source": [
    "We will be utilizing a public dataset called \"Autistic Spectrum Disorder Screening Data for Adult\" from the [`UCI repository`](http://archive.ics.uci.edu/ml/datasets/Autism+Screening+Adult#). This dataset was contributed by Prof. Fadi Thabtah and was originally published in an article titled \"Autism Spectrum Disorder Screening: Machine Learning Adaptation and DSM-5 Fulfillment.\" You can find the article by Fadi Thabtah [`online`](https://dl.acm.org/citation.cfm?id=3107515). The dataset we are examining has undergone minor modifications, such as the removal of the 'age_desc' feature and the elimination of records with missing or incorrectly formatted entries. There are limited published articles available online since the dataset is relatively new, making references to a benchmark model quite rare."
   ]
  },
  {
   "attachments": {},
   "cell_type": "markdown",
   "metadata": {},
   "source": [
    "## **Abstract**\n",
    "\n",
    "Autistic Spectrum Disorder (ASD) is a neurodevelopmental condition that incurs significant healthcare costs, and early diagnosis plays a crucial role in reducing these expenses. However, the existing procedures for diagnosing ASD are time-consuming and not cost-effective, leading to lengthy waiting times. With the rising prevalence of ASD cases worldwide, there is an urgent need for easily implemented and effective screening methods to address the economic impact of autism.\n",
    "\n",
    "Unfortunately, datasets containing comprehensive behavioral traits related to ASD are scarce, hampering in-depth analyses aimed at improving the efficiency, sensitivity, specificity, and predictive accuracy of ASD screening processes. Most available datasets are primarily focused on genetic aspects, further highlighting the need for additional resources. To address this gap, we propose a novel dataset specifically designed for screening adults for autism. This dataset comprises 20 features that can be used for comprehensive analysis, including identifying influential autistic traits and enhancing the classification of ASD cases.\n",
    "\n",
    "Within this dataset, we have recorded ten behavioral features known as AQ-10-Adult, which have proven effective in detecting ASD cases and distinguishing them from controls in the field of behavioral science. In addition to these behavioral features, we have also included ten individual characteristics that contribute to a more comprehensive understanding of ASD and its screening process.\n",
    "\n",
    "By providing this new dataset, we aim to facilitate research and advancements in ASD screening by enabling researchers and healthcare professionals to access a comprehensive set of data that can be utilized to develop time-efficient and accessible screening methods. These methods will aid in informing individuals whether they should pursue formal clinical diagnosis, ultimately leading to earlier interventions and improved outcomes for individuals with ASD."
   ]
  },
  {
   "attachments": {},
   "cell_type": "markdown",
   "metadata": {},
   "source": [
    "---\n",
    "<a id='step0'></a>\n",
    "## Step 1: Import Datasets\n",
    "\n",
    " I start by importing the 'asv.csv' file into a Pandas dataframe and take a look at it."
   ]
  },
  {
   "cell_type": "code",
   "execution_count": null,
   "metadata": {},
   "outputs": [],
   "source": [
    "# Import libraries necessary for this project\n",
    "import numpy as np\n",
    "import pandas as pd\n",
    "from time import time\n",
    "from IPython.display import display # Allows the use of display() for DataFrames\n",
    "\n",
    "# Import supplementary visualization code visuals.py\n",
    "from vpython import *\n",
    "\n",
    "# Pretty display for notebooks\n",
    "%matplotlib inline\n",
    "\n",
    "\n",
    "data = pd.read_csv('ASD.csv')\n",
    "display(data.head(n=5))"
   ]
  },
  {
   "cell_type": "code",
   "execution_count": null,
   "metadata": {},
   "outputs": [],
   "source": [
    "# Total number of records\n",
    "n_records = len(data.index)\n",
    "\n",
    "# TODO: Number of records where individual's with ASD\n",
    "n_asd_yes = len(data[data['Class/ASD'] == 'YES'])\n",
    "\n",
    "# TODO: Number of records where individual's with no ASD\n",
    "n_asd_no = len(data[data['Class/ASD'] == 'NO'])\n",
    "\n",
    "# TODO: Percentage of individuals whose are with ASD\n",
    "yes_percent = float(n_asd_yes) / n_records *100\n",
    "\n",
    "# Print the results\n",
    "print(\"Total number of records: {}\".format(n_records))\n",
    "print(\"Individuals diagonised with ASD: {}\".format(n_asd_yes))\n",
    "print(\"Individuals not diagonised with ASD: {}\".format(n_asd_no))\n",
    "print(\"Percentage of individuals diagonised with ASD: {:.2f}%\".format(yes_percent))"
   ]
  },
  {
   "attachments": {},
   "cell_type": "markdown",
   "metadata": {},
   "source": [
    "## **Featureset Exploration**\n",
    "\n",
    "This data contains 704 instances, and contains the following attributes:\n",
    "* **age**: *number* (Age in years). \n",
    "* **gendar**: *String* [Male/Female]. \n",
    "* **ethnicity**: *String* (List of common ethnicities in text format). \n",
    "* **Born with jaundice**: *Boolean* [yes or no]. \n",
    "* **Family member with PDD**: *Boolean* [yes or no]. \n",
    "* **Who is completing the test**: *String* [Parent, self, caregiver, medical staff, clinician ,etc.].\n",
    "* **Country of residence**: *String* (List of countries in text format).\n",
    "* **Used the screening app before**: *Boolean* [yes or no] (Whether the user has used a screening app) \n",
    "* **Screening Method Type**: *Integer* [0,1,2,3] (The type of screening methods chosen based on age category (0=toddler, 1=child, 2= adolescent, 3= adult).\n",
    "* **Question 1-10 Answer**: *Binary* [0, 1] (The answer code of the question based on the screening method used).\n",
    "* **Screening Score**: *Integer* (The final score obtained based on the scoring algorithm of the screening method used. This was computed in an automated manner)."
   ]
  }
 ],
 "metadata": {
  "language_info": {
   "name": "python"
  },
  "orig_nbformat": 4
 },
 "nbformat": 4,
 "nbformat_minor": 2
}
